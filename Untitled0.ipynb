{
  "cells": [
    {
      "cell_type": "markdown",
      "metadata": {
        "id": "view-in-github",
        "colab_type": "text"
      },
      "source": [
        "<a href=\"https://colab.research.google.com/github/PrinceZarzees/Business-Data-Analysis-in-ERA-Info-Tech-Internship/blob/main/Untitled0.ipynb\" target=\"_parent\"><img src=\"https://colab.research.google.com/assets/colab-badge.svg\" alt=\"Open In Colab\"/></a>"
      ]
    },
    {
      "cell_type": "code",
      "execution_count": 1,
      "metadata": {
        "colab": {
          "base_uri": "https://localhost:8080/"
        },
        "id": "T3-uIKijr185",
        "outputId": "194bbba4-5aac-4bdb-e1c2-8fe29ac39022"
      },
      "outputs": [
        {
          "output_type": "stream",
          "name": "stderr",
          "text": [
            "[nltk_data] Downloading package words to /root/nltk_data...\n",
            "[nltk_data]   Unzipping corpora/words.zip.\n"
          ]
        }
      ],
      "source": [
        "!pip install -U -q PyDrive\n",
        "from pydrive.auth import GoogleAuth\n",
        "from pydrive.drive import GoogleDrive\n",
        "from google.colab import auth\n",
        "from oauth2client.client import GoogleCredentials\n",
        "import pandas as pd \n",
        "import re\n",
        "from nltk.tokenize import word_tokenize\n",
        "from nltk.stem import WordNetLemmatizer\n",
        "import nltk\n",
        "from nltk.corpus import stopwords\n",
        "nltk.download('words')\n",
        "from nltk.corpus import words\n",
        "from nltk.probability import FreqDist\n",
        "import matplotlib.pyplot as plt\n",
        "from sklearn.feature_extraction.text import TfidfVectorizer\n",
        "from sklearn.cluster import KMeans\n",
        "from sklearn.feature_extraction.text import CountVectorizer\n",
        "from sklearn.decomposition import LatentDirichletAllocation\n",
        "\n",
        " \n"
      ]
    },
    {
      "cell_type": "code",
      "execution_count": 2,
      "metadata": {
        "id": "ObaEaXA-eP9Z"
      },
      "outputs": [],
      "source": [
        "auth.authenticate_user()\n",
        "gauth = GoogleAuth()\n",
        "gauth.credentials = GoogleCredentials.get_application_default()\n",
        "drive = GoogleDrive(gauth)\n",
        "link = 'https://drive.google.com/file/d/1E1BPMGKNhChxFjKi7ESD-kkmpJ7b_Cdf/view'\n",
        " \n",
        "# to get the id part of the file\n",
        "id = link.split(\"/\")[-2]\n",
        " \n",
        "downloaded = drive.CreateFile({'id':id})\n",
        "downloaded.GetContentFile('abc.csv') "
      ]
    },
    {
      "cell_type": "code",
      "execution_count": 22,
      "metadata": {
        "id": "7sCTnlXsIJmN"
      },
      "outputs": [],
      "source": [
        "data = pd.read_csv('abc.csv')"
      ]
    },
    {
      "cell_type": "code",
      "execution_count": 23,
      "metadata": {
        "colab": {
          "base_uri": "https://localhost:8080/"
        },
        "id": "nAfo5WRI7ALe",
        "outputId": "83847c4b-3778-4d7c-aa42-d8a2621033bf"
      },
      "outputs": [
        {
          "output_type": "stream",
          "name": "stderr",
          "text": [
            "[nltk_data] Downloading package stopwords to /root/nltk_data...\n",
            "[nltk_data]   Package stopwords is already up-to-date!\n",
            "[nltk_data] Downloading package punkt to /root/nltk_data...\n",
            "[nltk_data]   Package punkt is already up-to-date!\n",
            "[nltk_data] Downloading package wordnet to /root/nltk_data...\n",
            "[nltk_data]   Package wordnet is already up-to-date!\n",
            "<ipython-input-23-863213ad4ea9>:14: FutureWarning: The default value of regex will change from True to False in a future version.\n",
            "  df = df.str.replace(r\"[^a-zA-Z ]+\", \"\")\n"
          ]
        }
      ],
      "source": [
        "# Download the stopwords corpus if not already downloaded\n",
        "\n",
        "nltk.download('stopwords')\n",
        "nltk.download('punkt')\n",
        "nltk.download('wordnet')\n",
        "w_tokenizer=nltk.tokenize.WhitespaceTokenizer()\n",
        "lemmatizer=nltk.stem.WordNetLemmatizer()\n",
        "def lemmatize(text):\n",
        "  return [lemmatizer.lemmatize(w) for w in w_tokenizer.tokenize(text)]\n",
        "# Get the list of stopwords\n",
        "stopwords_list = stopwords.words('english')\n",
        "def text_preprocess(series):\n",
        "    df = series.str.replace(\"\\n\\t\",  \" \")\n",
        "    df = df.str.replace(r\"[^a-zA-Z ]+\", \"\")\n",
        "    df = df.str.lower() \n",
        "    df = df.apply(lambda x: re.sub(r'https?://\\S+', '', str(x)))\n",
        "    df = df.apply(lambda x: ' '.join([word for word in str(x).split() if word.lower() not in stopwords_list]))\n",
        "    df = df.apply(lemmatize)\n",
        "    return df\n",
        "data = data[['NARATION','DR_CR']].drop_duplicates()\n",
        "# Preprocess the sentences\n",
        "data['NARATION'] = text_preprocess(data['NARATION'])"
      ]
    },
    {
      "cell_type": "code",
      "execution_count": 24,
      "metadata": {
        "id": "LN-xtaomH3qI"
      },
      "outputs": [],
      "source": [
        "\n",
        "\n",
        "# Get the English word list from the NLTK corpus\n",
        "english_words = set(words.words())\n",
        "\n",
        "# Define the exceptions\n",
        "exceptions = {'eftn', 'ft', 'bkash', 'nogod', 'rtgs', 'pos',\n",
        "              'cib', 'paywell', 'challan', 'npsb', 'dps',\n",
        "              'atm', 'trf', 'sonod'}\n",
        "\n",
        "# Function to filter out non-English words while keeping the exceptions\n",
        "def filter_words(text):\n",
        "    words = nltk.word_tokenize(text.lower())\n",
        "    filtered_words = [word for word in words if word in exceptions or word in english_words]\n",
        "    return filtered_words\n",
        "\n",
        "# Apply the word filtering function to the 'NARATION' column\n",
        "data['NARATION']= (data['NARATION'].apply(lambda x: ' '.join(x))).apply(filter_words)\n",
        "\n",
        "\n"
      ]
    },
    {
      "cell_type": "code",
      "execution_count": null,
      "metadata": {
        "id": "nHZwLXm4I5-F"
      },
      "outputs": [],
      "source": [
        "\n",
        "\n",
        "# Concatenate all the 'NARATION' values into a single string\n",
        "all_text = ' '.join(data['NARATION'].apply(lambda x:\" \".join(x)).values)\n",
        "\n",
        "# Tokenize the text into individual words\n",
        "words = nltk.word_tokenize(all_text)\n",
        "\n",
        "# Compute the frequency distribution of words\n",
        "freq_dist = FreqDist(words)\n",
        "\n",
        "# Get the most common words and their frequencies\n",
        "most_common = freq_dist.most_common(20)  # Adjust the number of words as needed\n",
        "\n",
        "# Extract the words and frequencies into separate lists\n",
        "word_list = [word[0] for word in most_common]\n",
        "frequency_list = [word[1] for word in most_common]\n",
        "\n",
        "# Create a bar graph of the most frequent words\n",
        "plt.figure(figsize=(10, 6))\n",
        "plt.bar(word_list, frequency_list)\n",
        "plt.xlabel('Words')\n",
        "plt.ylabel('Frequency')\n",
        "plt.title('Most Frequent Words in NARATION')\n",
        "plt.xticks(rotation=45)\n",
        "plt.show()\n"
      ]
    },
    {
      "cell_type": "code",
      "execution_count": 25,
      "metadata": {
        "colab": {
          "base_uri": "https://localhost:8080/",
          "height": 527
        },
        "id": "ZWZrZGw6_Jxg",
        "outputId": "28547430-a149-4680-84d0-da30bff0fd11"
      },
      "outputs": [
        {
          "output_type": "stream",
          "name": "stderr",
          "text": [
            "/usr/local/lib/python3.10/dist-packages/sklearn/cluster/_kmeans.py:870: FutureWarning: The default value of `n_init` will change from 10 to 'auto' in 1.4. Set the value of `n_init` explicitly to suppress the warning\n",
            "  warnings.warn(\n"
          ]
        },
        {
          "output_type": "display_data",
          "data": {
            "text/plain": [
              "<Figure size 640x480 with 1 Axes>"
            ],
            "image/png": "[encoded data removed]"
          },
          "metadata": {}
        }
      ],
      "source": [
        "# Vectorize the text data\n",
        "vectorizer = TfidfVectorizer()\n",
        "tfidf_matrix = vectorizer.fit_transform(data['NARATION'].apply(lambda x: ' '.join(x)))\n",
        "\n",
        "# Estimate the number of clusters using the elbow method\n",
        "distortions = []\n",
        "k_values = range(2, 20)  # Range of potential number of clusters\n",
        "\n",
        "for k in k_values:\n",
        "    kmeans = KMeans(n_clusters=k, random_state=42)\n",
        "    kmeans.fit(tfidf_matrix)\n",
        "    distortions.append(kmeans.inertia_)\n",
        "\n",
        "# Plot the elbow curve\n",
        "plt.plot(k_values, distortions, 'bx-')\n",
        "plt.xlabel('Number of Clusters (k)')\n",
        "plt.ylabel('Distortion')\n",
        "plt.title('Elbow Method for Optimal k')\n",
        "plt.show()\n",
        "\n",
        "\n"
      ]
    },
    {
      "cell_type": "code",
      "execution_count": 26,
      "metadata": {
        "colab": {
          "base_uri": "https://localhost:8080/"
        },
        "id": "c5sBKu-BLjko",
        "outputId": "2306017c-55af-476b-fe54-55b094e282c5"
      },
      "outputs": [
        {
          "output_type": "stream",
          "name": "stdout",
          "text": [
            "                                                   NARATION   DR_CR  \\\n",
            "0                                          [cash, withdraw]   Debit   \n",
            "1                                        [cash, withdrawal]  Credit   \n",
            "2                  [cash, withdraw, micro, merchant, point]   Debit   \n",
            "3               [credit, merchant, cash, withdraw, service]  Credit   \n",
            "6                                           [cash, deposit]   Debit   \n",
            "...                                                     ...     ...   \n",
            "22538287                                                 []  Credit   \n",
            "22539045  [transaction, fund, transfer, smart, regular, ...  Credit   \n",
            "22539930                                    [cash, deposit]  Credit   \n",
            "22543261                                                 []  Credit   \n",
            "22544595                                                 []  Credit   \n",
            "\n",
            "          cluster_km  \n",
            "0                  6  \n",
            "1                 10  \n",
            "2                  3  \n",
            "3                  3  \n",
            "6                  5  \n",
            "...              ...  \n",
            "22538287           3  \n",
            "22539045           0  \n",
            "22539930           5  \n",
            "22543261           3  \n",
            "22544595           3  \n",
            "\n",
            "[135647 rows x 3 columns]\n"
          ]
        }
      ],
      "source": [
        "# Based on the elbow plot, determine the optimal number of clusters\n",
        "optimal_k = 13  # Update this with the identified optimal k value\n",
        "\n",
        "# Perform K-means clustering with the optimal number of clusters\n",
        "kmeans = KMeans(n_clusters=optimal_k, random_state=42)\n",
        "kmeans.fit(tfidf_matrix)\n",
        "\n",
        "# Assign cluster labels to the DataFrame\n",
        "data['cluster_km'] = kmeans.labels_\n",
        "\n",
        "# Print the updated DataFrame\n",
        "print(data)"
      ]
    },
    {
      "cell_type": "code",
      "source": [
        "with open('vectorizer_kmeans.pkl', 'wb') as f:\n",
        "    pickle.dump(vectorizer, f)"
      ],
      "metadata": {
        "id": "UvQct1jEBoRc"
      },
      "execution_count": 27,
      "outputs": []
    },
    {
      "cell_type": "code",
      "execution_count": 28,
      "metadata": {
        "id": "FfXturlcdyTk"
      },
      "outputs": [],
      "source": [
        "import pickle\n",
        "with open('kmeans_model.pkl', 'wb') as f:\n",
        "    pickle.dump(kmeans, f)"
      ]
    },
    {
      "cell_type": "code",
      "execution_count": null,
      "metadata": {
        "id": "q1XeG-4mMR2Y"
      },
      "outputs": [],
      "source": [
        "# Calculate word frequency for each cluster\n",
        "cluster_word_freq = {}\n",
        "\n",
        "for cluster_id in data['cluster_km'].unique():\n",
        "    # Concatenate 'NARATION' values for the current cluster into a single string\n",
        "    cluster_text = ' '.join(data[data['cluster_km'] == cluster_id]['NARATION'].apply(lambda x:\" \".join(x)).values)\n",
        "    \n",
        "    # Tokenize the text into individual words\n",
        "    words = nltk.word_tokenize(cluster_text)\n",
        "    \n",
        "    # Compute the frequency distribution of words\n",
        "    freq_dist = FreqDist(words)\n",
        "    \n",
        "    # Store the word frequency distribution for the current cluster\n",
        "    cluster_word_freq[cluster_id] = freq_dist\n",
        "\n",
        "# Plot word frequency for each cluster\n",
        "for cluster_id, freq_dist in cluster_word_freq.items():\n",
        "    # Get the most common words and their frequencies for the current cluster\n",
        "    most_common = freq_dist.most_common(10)  # Adjust the number of words as needed\n",
        "    \n",
        "    # Extract the words and frequencies into separate lists\n",
        "    word_list = [word[0] for word in most_common]\n",
        "    frequency_list = [word[1] for word in most_common]\n",
        "    \n",
        "    # Create a bar plot for the current cluster\n",
        "    plt.figure(figsize=(12, 8))\n",
        "    plt.bar(word_list, frequency_list)\n",
        "    plt.xlabel('Words')\n",
        "    plt.ylabel('Frequency')\n",
        "    plt.title(f'Word Frequency - Cluster {cluster_id}')\n",
        "    plt.xticks(rotation=45)\n",
        "    plt.show()\n"
      ]
    },
    {
      "cell_type": "code",
      "execution_count": 29,
      "metadata": {
        "id": "CkcXyzECQrZZ"
      },
      "outputs": [],
      "source": [
        "# Preprocess the text data\n",
        "\n",
        "# Convert text data to numerical representation\n",
        "vectorizer = CountVectorizer(stop_words='english')\n",
        "X = vectorizer.fit_transform(data['NARATION'].apply(lambda x:\" \".join(x)))\n",
        "\n",
        "# Apply LDA model\n",
        "num_topics = 13  # Set the desired number of topics (clusters)\n",
        "lda = LatentDirichletAllocation(n_components=num_topics, random_state=42)\n",
        "lda.fit(X)\n",
        "\n",
        "# Assign cluster labels\n",
        "cluster_labels = lda.transform(X).argmax(axis=1)\n",
        "\n",
        "# Add cluster labels to the data DataFrame\n",
        "data['cluster_lda'] = cluster_labels"
      ]
    },
    {
      "cell_type": "code",
      "source": [
        "with open('lda_model.pkl', 'wb') as f:\n",
        "    pickle.dump(lda, f)"
      ],
      "metadata": {
        "id": "mYv0KKoN7R0M"
      },
      "execution_count": 30,
      "outputs": []
    },
    {
      "cell_type": "code",
      "execution_count": null,
      "metadata": {
        "id": "LfEX9TOCRtPn"
      },
      "outputs": [],
      "source": [
        "# Calculate word frequency for each cluster\n",
        "cluster_word_freq = {}\n",
        "\n",
        "for cluster_id in data['cluster_lda'].unique():\n",
        "    # Concatenate 'NARATION' values for the current cluster into a single string\n",
        "    cluster_text = ' '.join(data[data['cluster_lda'] == cluster_id]['NARATION'].apply(lambda x:\" \".join(x)).values)\n",
        "    \n",
        "    # Tokenize the text into individual words\n",
        "    words = nltk.word_tokenize(cluster_text)\n",
        "    \n",
        "    # Compute the frequency distribution of words\n",
        "    freq_dist = FreqDist(words)\n",
        "    \n",
        "    # Store the word frequency distribution for the current cluster\n",
        "    cluster_word_freq[cluster_id] = freq_dist\n",
        "\n",
        "# Plot word frequency for each cluster\n",
        "for cluster_id, freq_dist in cluster_word_freq.items():\n",
        "    # Get the most common words and their frequencies for the current cluster\n",
        "    most_common = freq_dist.most_common(10)  # Adjust the number of words as needed\n",
        "    \n",
        "    # Extract the words and frequencies into separate lists\n",
        "    word_list = [word[0] for word in most_common]\n",
        "    frequency_list = [word[1] for word in most_common]\n",
        "    \n",
        "    # Create a bar plot for the current cluster\n",
        "    plt.figure(figsize=(12, 8))\n",
        "    plt.bar(word_list, frequency_list)\n",
        "    plt.xlabel('Words')\n",
        "    plt.ylabel('Frequency')\n",
        "    plt.title(f'Word Frequency - Cluster {cluster_id}')\n",
        "    plt.xticks(rotation=45)\n",
        "    plt.show()"
      ]
    },
    {
      "cell_type": "code",
      "source": [
        "with open('vectorizer_lda.pkl', 'wb') as f:\n",
        "    pickle.dump(vectorizer, f)"
      ],
      "metadata": {
        "id": "BdTy_9XWB4EC"
      },
      "execution_count": 19,
      "outputs": []
    },
    {
      "cell_type": "code",
      "source": [
        "import nltk\n",
        "from nltk.corpus import stopwords, words\n",
        "from nltk.tokenize import word_tokenize\n",
        "from nltk.stem import WordNetLemmatizer\n",
        "import re\n",
        "\n",
        "nltk.download('stopwords')\n",
        "nltk.download('punkt')\n",
        "nltk.download('wordnet')\n",
        "\n",
        "# Initialize tokenizer and lemmatizer\n",
        "w_tokenizer = nltk.tokenize.WhitespaceTokenizer()\n",
        "lemmatizer = nltk.stem.WordNetLemmatizer()\n",
        "\n",
        "# Get the list of stopwords\n",
        "stopwords_list = stopwords.words('english')\n",
        "\n",
        "# Define the exceptions\n",
        "exceptions = {'eftn', 'ft', 'bkash', 'nogod', 'rtgs', 'pos',\n",
        "              'cib', 'paywell', 'challan', 'npsb', 'dps',\n",
        "              'atm', 'trf', 'sonod'}\n",
        "\n",
        "# Function to lemmatize text\n",
        "def lemmatize_text(text):\n",
        "    return [lemmatizer.lemmatize(w) for w in word_tokenize(text)]\n",
        "\n",
        "# Function to preprocess the text\n",
        "def preprocess_text(text):\n",
        "    # Remove special characters and non-alphabetic characters\n",
        "    text = re.sub(r\"[^a-zA-Z ]+\", \"\", text)\n",
        "    # Convert text to lowercase\n",
        "    text = text.lower()\n",
        "    # Remove stopwords\n",
        "    text = ' '.join([word for word in text.split() if word.lower() not in stopwords_list])\n",
        "    # Lemmatize the text\n",
        "    text = ' '.join(lemmatize_text(text))\n",
        "    return text\n",
        "\n",
        "# Example usage\n",
        "input_text = \"This is an example sentence for preprocessing\"\n",
        "preprocessed_text = preprocess_text(input_text)\n",
        "print(\"Input Text:\", input_text)\n",
        "print(\"Preprocessed Text:\", preprocessed_text)\n"
      ],
      "metadata": {
        "id": "1jkNYfr4ADtN"
      },
      "execution_count": null,
      "outputs": []
    },
    {
      "cell_type": "code",
      "source": [
        "# the test_script\n",
        "import nltk\n",
        "from nltk.corpus import stopwords, words\n",
        "from nltk.tokenize import word_tokenize\n",
        "from nltk.stem import WordNetLemmatizer\n",
        "import re\n",
        "import sys\n",
        "\n",
        "nltk.download('stopwords')\n",
        "nltk.download('punkt')\n",
        "nltk.download('wordnet')\n",
        "\n",
        "# Initialize tokenizer and lemmatizer\n",
        "w_tokenizer = nltk.tokenize.WhitespaceTokenizer()\n",
        "lemmatizer = nltk.stem.WordNetLemmatizer()\n",
        "\n",
        "# Get the list of stopwords\n",
        "stopwords_list = stopwords.words('english')\n",
        "\n",
        "# Define the exceptions\n",
        "exceptions = {'eftn', 'ft', 'bkash', 'nogod', 'rtgs', 'pos',\n",
        "              'cib', 'paywell', 'challan', 'npsb', 'dps',\n",
        "              'atm', 'trf', 'sonod'}\n",
        "\n",
        "# Function to lemmatize text\n",
        "def lemmatize_text(text):\n",
        "    return [lemmatizer.lemmatize(w) for w in word_tokenize(text)]\n",
        "\n",
        "# Function to preprocess the text\n",
        "def preprocess_text(text):\n",
        "    # Remove special characters and non-alphabetic characters\n",
        "    text = re.sub(r\"[^a-zA-Z ]+\", \"\", text)\n",
        "    # Convert text to lowercase\n",
        "    text = text.lower()\n",
        "    # Remove stopwords\n",
        "    text = ' '.join([word for word in text.split() if word.lower() not in stopwords_list])\n",
        "    # Lemmatize the text\n",
        "    text = ' '.join(lemmatize_text(text))\n",
        "    return text\n",
        "def analytics(text,method):\n",
        "  if method==\"kmeans\":\n",
        "    with open('kmeans_model.pkl', 'rb') as f:\n",
        "        kmeans_loaded = pickle.load(f)\n",
        "    with open('vectorizer_kmeans.pkl', 'rb') as f:\n",
        "        vectorizer_loaded = pickle.load(f)\n",
        "  elif method==\"lda\":\n",
        "    with open('lda_model.pkl', 'rb') as f:\n",
        "        lda_loaded = pickle.load(f)\n",
        "    with open('vectorizer_lda.pkl', 'rb') as f:\n",
        "        vectorizer_loaded = pickle.load(f)\n",
        "# Function to determine the cluster of a given string\n",
        "def determine_cluster(text,method):\n",
        "    # Transform the input text using the loaded vectorizer\n",
        "    text_vectorized = vectorizer_loaded.transform([text])\n",
        "    cluster=-1\n",
        "    if method==\"kmeans\":\n",
        "    # Predict the cluster using the loaded K-means model\n",
        "      cluster = kmeans_loaded.predict(text_vectorized)[0]\n",
        "    elif method==\"lda\":\n",
        "      doc_topic_dist = lda_loaded.transform(text_vectorized)\n",
        "      # Determine the dominant topic for the given text\n",
        "      cluster = doc_topic_dist.argmax(axis=1)[0]\n",
        "\n",
        "    return cluster\n",
        "\n",
        "  # Test the clustering function\n",
        "def main():\n",
        "\n",
        "  if len(sys.argv) != 3:\n",
        "        print(\"Usage: python clustering_script.py <text> <method>\")\n",
        "        exit()\n",
        "      \n",
        "  text = sys.argv[1]\n",
        "  method = sys.argv[2]\n",
        "  preprocessed_text=preprocess_text(text);\n",
        "  # Determine the cluster using the specified method\n",
        "  cluster = determine_cluster(preprocessed_text, method)\n",
        "\n",
        "  # Print the preprocessed text and cluster\n",
        "  print(\"Preprocessed Text:\", preprocessed_text)\n",
        "  print(\"Cluster:\", cluster)"
      ],
      "metadata": {
        "colab": {
          "base_uri": "https://localhost:8080/"
        },
        "id": "WIRlQHY3AUse",
        "outputId": "0473542e-0ac5-4bdd-95bb-64b035d29757"
      },
      "execution_count": 62,
      "outputs": [
        {
          "output_type": "stream",
          "name": "stderr",
          "text": [
            "[nltk_data] Downloading package stopwords to /root/nltk_data...\n",
            "[nltk_data]   Package stopwords is already up-to-date!\n",
            "[nltk_data] Downloading package punkt to /root/nltk_data...\n",
            "[nltk_data]   Package punkt is already up-to-date!\n",
            "[nltk_data] Downloading package wordnet to /root/nltk_data...\n",
            "[nltk_data]   Package wordnet is already up-to-date!\n"
          ]
        },
        {
          "output_type": "stream",
          "name": "stdout",
          "text": [
            "ERROR: unknown command \"this is a text\"\n"
          ]
        }
      ]
    },
    {
      "cell_type": "code",
      "source": [
        "!python3 test_script.py \"cash withdraw\" \"kmeans\""
      ],
      "metadata": {
        "colab": {
          "base_uri": "https://localhost:8080/"
        },
        "id": "jQ1cxkxwlbIZ",
        "outputId": "98ad039c-9620-4505-d337-2a014073c7fb"
      },
      "execution_count": 76,
      "outputs": [
        {
          "output_type": "stream",
          "name": "stdout",
          "text": [
            "[nltk_data] Downloading package stopwords to /root/nltk_data...\n",
            "[nltk_data]   Package stopwords is already up-to-date!\n",
            "[nltk_data] Downloading package punkt to /root/nltk_data...\n",
            "[nltk_data]   Package punkt is already up-to-date!\n",
            "[nltk_data] Downloading package wordnet to /root/nltk_data...\n",
            "[nltk_data]   Package wordnet is already up-to-date!\n",
            "Preprocessed Text: cash withdraw\n",
            "Cluster: 6\n"
          ]
        }
      ]
    },
    {
      "cell_type": "code",
      "source": [
        "print (data)"
      ],
      "metadata": {
        "colab": {
          "base_uri": "https://localhost:8080/"
        },
        "id": "CxMOWl3-noAM",
        "outputId": "e754e80c-ba62-47c3-93c0-ab5536910a73"
      },
      "execution_count": 72,
      "outputs": [
        {
          "output_type": "stream",
          "name": "stdout",
          "text": [
            "                                                   NARATION   DR_CR  \\\n",
            "0                                          [cash, withdraw]   Debit   \n",
            "1                                        [cash, withdrawal]  Credit   \n",
            "2                  [cash, withdraw, micro, merchant, point]   Debit   \n",
            "3               [credit, merchant, cash, withdraw, service]  Credit   \n",
            "6                                           [cash, deposit]   Debit   \n",
            "...                                                     ...     ...   \n",
            "22538287                                                 []  Credit   \n",
            "22539045  [transaction, fund, transfer, smart, regular, ...  Credit   \n",
            "22539930                                    [cash, deposit]  Credit   \n",
            "22543261                                                 []  Credit   \n",
            "22544595                                                 []  Credit   \n",
            "\n",
            "          cluster_km  cluster_lda  \n",
            "0                  6            1  \n",
            "1                 10            0  \n",
            "2                  3            1  \n",
            "3                  3            2  \n",
            "6                  5            5  \n",
            "...              ...          ...  \n",
            "22538287           3            0  \n",
            "22539045           0            3  \n",
            "22539930           5            5  \n",
            "22543261           3            0  \n",
            "22544595           3            0  \n",
            "\n",
            "[135647 rows x 4 columns]\n"
          ]
        }
      ]
    }
  ],
  "metadata": {
    "colab": {
      "provenance": [],
      "authorship_tag": "ABX9TyOkLlZgQf769smv3qlauZe3",
      "include_colab_link": true
    },
    "kernelspec": {
      "display_name": "Python 3",
      "name": "python3"
    },
    "language_info": {
      "name": "python"
    }
  },
  "nbformat": 4,
  "nbformat_minor": 0
}